{
 "cells": [
  {
   "cell_type": "markdown",
   "id": "6647b9d4",
   "metadata": {},
   "source": [
    "# Regridding data"
   ]
  },
  {
   "cell_type": "code",
   "execution_count": 1,
   "id": "71e2c320",
   "metadata": {},
   "outputs": [],
   "source": [
    "import cartopy.crs as ccrs\n",
    "import libs.helpers as helpers\n",
    "import matplotlib\n",
    "import matplotlib.pyplot as plt\n",
    "import xesmf\n",
    "import xarray\n",
    "\n",
    "import warnings\n",
    "warnings.filterwarnings('ignore')\n",
    "\n",
    "\n",
    "def regrid_latlon(data, method='bilinear', extrap_method=None):\n",
    "    latlon_grid = xesmf.util.grid_global(1.875, 1.25)\n",
    "    regridder = xesmf.Regridder(data, latlon_grid, method=method, extrap_method=extrap_method)\n",
    "\n",
    "    return regridder(data)\n",
    "\n",
    "\n",
    "def regrid_latlon_nsidc(i, o, mode='bilinear'):\n",
    "    data = xarray.open_mfdataset(paths=i, combine='by_coords')\n",
    "    data_latlon = regrid_latlon(data, mode)\n",
    "\n",
    "    mask = data_latlon.mask.where(data_latlon.mask > 5).where(data_latlon.mask < 16)\n",
    "    data_latlon['mask'] = mask\n",
    "\n",
    "    o_edited = o.replace('.nc', f'_{mode}.nc')\n",
    "    data_latlon.to_netcdf(o_edited)\n",
    "\n",
    "    return o_edited\n",
    "\n",
    "\n",
    "def plot_regridded_data(data, title='', x='lon', y='lat'):\n",
    "    transform = ccrs.PlateCarree()\n",
    "    fig, ax = plt.subplots(\n",
    "        1, \n",
    "        1,\n",
    "        figsize=(10, 10),\n",
    "        subplot_kw={ \n",
    "            'projection': ccrs.Stereographic(central_latitude=90.0)\n",
    "        }\n",
    "    )\n",
    "    fig.suptitle(title)\n",
    "    ax.coastlines(resolution='110m', linewidth=0.5)\n",
    "    ax.set_extent([-180, 180, 50, 90], transform)\n",
    "    gl = ax.gridlines()\n",
    "    gl.ylocator = matplotlib.ticker.LinearLocator(4)\n",
    "    data.plot.pcolormesh(\n",
    "        ax=ax,\n",
    "        x=x, \n",
    "        y=y,\n",
    "        transform=transform\n",
    "    )"
   ]
  },
  {
   "cell_type": "markdown",
   "id": "3b0f0fae",
   "metadata": {
    "heading_collapsed": true
   },
   "source": [
    "## NSIDC Regions"
   ]
  },
  {
   "cell_type": "code",
   "execution_count": 2,
   "id": "53ba44ce",
   "metadata": {
    "hidden": true
   },
   "outputs": [],
   "source": [
    "path = '_data/NSIDC_Regions_Masks.nc'\n",
    "o = '_data/_cache/NSIDC_Regions_Masks_LatLon.nc'\n",
    "\n",
    "o_bilinear = regrid_latlon_nsidc(path, o)\n",
    "o_nearest_s2d = regrid_latlon_nsidc(path, o, mode='nearest_s2d')"
   ]
  },
  {
   "cell_type": "code",
   "execution_count": 3,
   "id": "56aaf171",
   "metadata": {
    "hidden": true
   },
   "outputs": [
    {
     "data": {
      "text/plain": [
       "<matplotlib.collections.QuadMesh at 0x7fd14e44f8b0>"
      ]
     },
     "execution_count": 3,
     "metadata": {},
     "output_type": "execute_result"
    },
    {
     "data": {
      "image/png": "[encoded data removed]",
      "text/plain": [
       "<Figure size 432x288 with 2 Axes>"
      ]
     },
     "metadata": {
      "needs_background": "light"
     },
     "output_type": "display_data"
    }
   ],
   "source": [
    "xarray.open_mfdataset(paths='_data/NSIDC_Regions_Masks.nc', combine='by_coords').mask.plot()"
   ]
  },
  {
   "cell_type": "code",
   "execution_count": null,
   "id": "a55fa141",
   "metadata": {
    "hidden": true
   },
   "outputs": [],
   "source": [
    "plot_regridded_data(xarray.open_mfdataset(paths=o_bilinear, combine='by_coords').mask, title='bilinear')\n",
    "plot_regridded_data(xarray.open_mfdataset(paths=o_nearest_s2d, combine='by_coords').mask, title='nearest_s2d')"
   ]
  },
  {
   "cell_type": "markdown",
   "id": "351a0dfc",
   "metadata": {},
   "source": [
    "## Sea-ice/ocean grid"
   ]
  },
  {
   "cell_type": "code",
   "execution_count": null,
   "id": "009e7671",
   "metadata": {},
   "outputs": [],
   "source": [
    "siconc_base = helpers.get_data('ssp585', 'SImon', 'siconc', 'r2i1p1f2')\n",
    "siconca_base = helpers.get_data('ssp585', 'SImon', 'siconca', 'r2i1p1f2')\n",
    "\n",
    "siconc = siconc_base.siconc[0, :, :]\n",
    "siconca = siconca_base.siconca[0, :, :]\n",
    "\n",
    "siconc_latlon = regrid_latlon(siconc_base).siconc[0, :, :]\n",
    "siconc_latlon_ext = regrid_latlon(siconc_base, extrap_method='nearest_s2d').siconc[0, :, :]\n",
    "siconc_latlon_s2d = regrid_latlon(siconc_base, 'nearest_s2d').siconc[0, :, :]"
   ]
  },
  {
   "cell_type": "code",
   "execution_count": null,
   "id": "78e86e7f",
   "metadata": {
    "scrolled": true
   },
   "outputs": [],
   "source": [
    "plot_regridded_data(siconc, title='original (ocean grid)', x='longitude', y='latitude')\n",
    "plot_regridded_data(siconca, title='original (atmos grid)')\n",
    "plot_regridded_data(siconc_latlon, title='bilinear')\n",
    "plot_regridded_data(siconc_latlon_ext, title='bilinear with extrapolation nearest_s2d')\n",
    "plot_regridded_data(siconc_latlon_s2d, title='nearest_s2d')"
   ]
  },
  {
   "cell_type": "code",
   "execution_count": null,
   "id": "f795a384",
   "metadata": {},
   "outputs": [],
   "source": [
    "path_areacella = '_data/cmip6/UKESM1/areacella_fx_UKESM1-0-LL_piControl_r1i1p1f2_gn.nc'\n",
    "areacella = xarray.open_mfdataset(paths=path_areacella, combine='by_coords').areacella\n",
    "\n",
    "path_areacello = '_data/cmip6/UKESM1/areacello_Ofx_UKESM1-0-LL_piControl_r1i1p1f2_gn.nc'\n",
    "areacello = xarray.open_mfdataset(paths=path_areacello, combine='by_coords').areacello\n",
    "\n",
    "siconc = siconc.where(siconc.latitude > 60)\n",
    "siconca = siconca.where(siconca.lat > 60)\n",
    "siconc_latlon = siconc_latlon.where(siconc_latlon.lat > 60)\n",
    "siconc_latlon_ext = siconc_latlon_ext.where(siconc_latlon_ext.lat > 60)\n",
    "siconc_latlon_s2d = siconc_latlon_s2d.where(siconc_latlon_s2d.lat > 60)\n",
    "\n",
    "area_o = (siconc * areacello).sum(dim=('i', 'j'), skipna=True).values\n",
    "area_a = (siconca * areacella).sum(dim=('lat', 'lon'), skipna=True).values\n",
    "area_bil = (siconc_latlon.values * areacella).sum(dim=('lat', 'lon'), skipna=True).values * 1.\n",
    "area_ext = (siconc_latlon_ext.values * areacella).sum(dim=('lat', 'lon'), skipna=True).values * 1.\n",
    "area_s2d = (siconc_latlon_s2d.values * areacella).sum(dim=('lat', 'lon'), skipna=True).values * 1."
   ]
  },
  {
   "cell_type": "code",
   "execution_count": null,
   "id": "05982abc",
   "metadata": {},
   "outputs": [],
   "source": [
    "print('siconc (ocean grid):')\n",
    "print(f'-> area: {area_o}')\n",
    "\n",
    "print('\\nsiconca (atmosphere grid):')\n",
    "print(f'-> area: {area_a}')\n",
    "print(f'-> siconc diff: {round(100 * (area_a - area_o)/area_o, 4)}%')\n",
    "\n",
    "print('\\nbilinear:')\n",
    "print(f'-> area: {area_bil}')\n",
    "print(f'-> siconc diff: {round(100 * (area_bil - area_o)/area_o, 4)}%')\n",
    "\n",
    "print('\\nbilinear with extrapolation nearest_s2d:')\n",
    "print(f'-> area: {area_ext}')\n",
    "print(f'-> siconc diff: {round(100 * (area_ext - area_o)/area_o, 4)}%')\n",
    "\n",
    "print('\\ns2d:')\n",
    "print(f'-> area: {area_s2d}')\n",
    "print(f'-> siconc diff: {round(100 * (area_s2d - area_o)/area_o, 4)}%')"
   ]
  },
  {
   "cell_type": "code",
   "execution_count": null,
   "id": "a0d2bb7a",
   "metadata": {},
   "outputs": [],
   "source": []
  }
 ],
 "metadata": {
  "kernelspec": {
   "display_name": "Python [conda env:climate] *",
   "language": "python",
   "name": "conda-env-climate-py"
  },
  "language_info": {
   "codemirror_mode": {
    "name": "ipython",
    "version": 3
   },
   "file_extension": ".py",
   "mimetype": "text/x-python",
   "name": "python",
   "nbconvert_exporter": "python",
   "pygments_lexer": "ipython3",
   "version": "3.9.10"
  }
 },
 "nbformat": 4,
 "nbformat_minor": 5
}
