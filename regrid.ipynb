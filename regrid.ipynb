{
 "cells": [
  {
   "cell_type": "markdown",
   "id": "6647b9d4",
   "metadata": {},
   "source": [
    "# Regridding data"
   ]
  },
  {
   "cell_type": "code",
   "execution_count": 1,
   "id": "71e2c320",
   "metadata": {},
   "outputs": [],
   "source": [
    "import cartopy.crs as ccrs\n",
    "import matplotlib\n",
    "import matplotlib.pyplot as plt\n",
    "import xesmf\n",
    "import xarray\n",
    "\n",
    "import warnings\n",
    "warnings.filterwarnings('ignore')\n",
    "    \n",
    "def regrid_latlon(i, o, mode='bilinear'):\n",
    "    data = xarray.open_mfdataset(paths=i, combine='by_coords')\n",
    "    latlon_grid = xesmf.util.grid_global(1.875, 1.25)\n",
    "\n",
    "    regridder = xesmf.Regridder(data, latlon_grid, mode)\n",
    "    data_latlon = regridder(data)\n",
    "    mask = data_latlon.mask.where(data_latlon.mask > 5).where(data_latlon.mask < 16)\n",
    "    data_latlon['mask'] = mask\n",
    "    data_latlon.to_netcdf(o.replace('.nc', f'_{mode}.nc'))"
   ]
  },
  {
   "cell_type": "code",
   "execution_count": null,
   "id": "53ba44ce",
   "metadata": {},
   "outputs": [],
   "source": [
    "path = '_data/NSIDC_Regions_Masks.nc'\n",
    "o = '_data/NSIDC_Regions_Masks_LatLon.nc'\n",
    "\n",
    "regrid_latlon(path, o)\n",
    "\n",
    "regrid_latlon(\n",
    "    path, \n",
    "    o,\n",
    "    mode='nearest_s2d'\n",
    ")"
   ]
  },
  {
   "cell_type": "code",
   "execution_count": null,
   "id": "a55fa141",
   "metadata": {},
   "outputs": [],
   "source": [
    "def plot_saved_output(path):\n",
    "    test = xarray.open_mfdataset(\n",
    "        paths=path,\n",
    "        combine='by_coords'\n",
    "    ).mask\n",
    "\n",
    "    transform = ccrs.PlateCarree()\n",
    "    fig, ax = plt.subplots(\n",
    "        1, \n",
    "        1,\n",
    "        figsize=(10, 10),\n",
    "        subplot_kw={ \n",
    "            'projection': ccrs.Stereographic(central_latitude=90.0)\n",
    "        }\n",
    "    )\n",
    "    ax.coastlines(resolution='110m', linewidth=0.5)\n",
    "    ax.set_extent([-180, 180, 50, 90], transform)\n",
    "    gl = ax.gridlines()\n",
    "    gl.ylocator = matplotlib.ticker.LinearLocator(4)\n",
    "    test.plot.pcolormesh(\n",
    "        ax=ax,\n",
    "        x='lon', \n",
    "        y='lat',\n",
    "        transform=transform\n",
    "    )\n",
    "\n",
    "    \n",
    "plot_saved_output('_data/NSIDC_Regions_Masks_LatLon_nearest_s2d.nc')\n",
    "plot_saved_output('_data/NSIDC_Regions_Masks_LatLon_bilinear.nc')"
   ]
  },
  {
   "cell_type": "code",
   "execution_count": null,
   "id": "009e7671",
   "metadata": {},
   "outputs": [],
   "source": []
  }
 ],
 "metadata": {
  "kernelspec": {
   "display_name": "Python [conda env:climate] *",
   "language": "python",
   "name": "conda-env-climate-py"
  },
  "language_info": {
   "codemirror_mode": {
    "name": "ipython",
    "version": 3
   },
   "file_extension": ".py",
   "mimetype": "text/x-python",
   "name": "python",
   "nbconvert_exporter": "python",
   "pygments_lexer": "ipython3",
   "version": "3.9.10"
  }
 },
 "nbformat": 4,
 "nbformat_minor": 5
}
