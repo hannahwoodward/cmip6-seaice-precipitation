{
 "cells": [
  {
   "cell_type": "code",
   "execution_count": 1,
   "id": "6a20f42a-c415-4ab0-8d8c-4d8d0e683b09",
   "metadata": {},
   "outputs": [],
   "source": [
    "import os\n",
    "\n",
    "os.chdir(os.path.dirname(os.getcwd()))"
   ]
  },
  {
   "cell_type": "code",
   "execution_count": 2,
   "id": "6deb5cdd-a913-4555-a0b7-1b9e9747c8b2",
   "metadata": {},
   "outputs": [],
   "source": [
    "from dask.diagnostics import ProgressBar\n",
    "from pathlib import Path\n",
    "import libs.utils\n",
    "import libs.vars\n",
    "import numpy as np\n",
    "import xarray\n",
    "\n",
    "xarray.set_options(keep_attrs=True);"
   ]
  },
  {
   "cell_type": "code",
   "execution_count": 3,
   "id": "849322b4-ef8e-4902-b586-dd9f8546185c",
   "metadata": {},
   "outputs": [],
   "source": [
    "# ----- SPECIFIC SETTINGS -----\n",
    "component = 'Amon'\n",
    "\n",
    "files = [\n",
    "    f'{{variable_id}}_{component}_{{source_id}}_historical_{{variant_label}}_{{grid_label}}_198001-201412_processed.nc',\n",
    "    f'{{variable_id}}_{component}_{{source_id}}_ssp585_{{variant_label}}_{{grid_label}}_201501-210012_processed.nc'\n",
    "]"
   ]
  },
  {
   "cell_type": "code",
   "execution_count": 4,
   "id": "dcacc78f-9760-42fc-8d3c-507782410479",
   "metadata": {},
   "outputs": [],
   "source": [
    "def create_evspsbl(ensemble, files):\n",
    "    for i, item in enumerate(ensemble):\n",
    "        source_id = item['source_id']\n",
    "        variant_label = item['variant_label']\n",
    "        grid_label = 'gn'\n",
    "        if source_id in ['EC-Earth3', 'IPSL-CM6A-LR']:\n",
    "            grid_label = 'gr'\n",
    "        \n",
    "        format_vars = {\n",
    "            'source_id': source_id,\n",
    "            'variant_label': variant_label,\n",
    "            'grid_label': grid_label\n",
    "        }\n",
    "        \n",
    "        for filename in files:\n",
    "            base_path = f'_data/cmip6/{source_id}/{{variable_id}}/'\n",
    "            filepath_pr = (base_path + filename).format(variable_id='pr', **format_vars)\n",
    "            filepath_evspsbl = (base_path + filename).format(variable_id='evspsbl', **format_vars)\n",
    "            filepath_prnet = (base_path + filename).format(variable_id='prnet', **format_vars)\n",
    "            \n",
    "            if not Path(filepath_pr).exists():\n",
    "                continue\n",
    "\n",
    "            data_pr = xarray.open_mfdataset(paths=filepath_pr, combine='by_coords', use_cftime=True)\n",
    "            data_evspsbl = xarray.open_mfdataset(paths=filepath_evspsbl, combine='by_coords', use_cftime=True)\n",
    "            \n",
    "            if source_id in ['EC-Earth3']:\n",
    "                data_evspsbl *= -1\n",
    "            \n",
    "            # Calculate net pr (pr - evspsbl)\n",
    "            data_pr['pr'] -= data_evspsbl['evspsbl']\n",
    "            data_prnet = data_pr.rename({ 'pr': 'prnet' })\n",
    "            \n",
    "            Path(filepath_prnet).parent.mkdir(parents=True, exist_ok=True)\n",
    "            print(filepath_prnet)\n",
    "            \n",
    "            if Path(filepath_prnet).exists():\n",
    "                print('   -> Exists. skipping')\n",
    "                continue\n",
    "\n",
    "            write = data_prnet.to_netcdf(\n",
    "                filepath_prnet,\n",
    "                compute=False,\n",
    "                engine='netcdf4',\n",
    "                unlimited_dims=['time']\n",
    "            )\n",
    "            with ProgressBar():\n",
    "                write.compute()\n",
    "\n",
    "            data_pr.close()\n",
    "            data_evspsbl.close()\n",
    "            print('   -> Saved to disk')\n",
    "\n",
    "            # Finally, compress as to_netcdf() seems to produce large file sizes\n",
    "            file, diff = libs.utils.compress_nc_file(filepath_prnet, filepath_prnet)\n",
    "            print(f'   -> Compressed ({diff})')"
   ]
  },
  {
   "cell_type": "code",
   "execution_count": 5,
   "id": "421b6999-548e-40a2-a9a7-05e9be551007",
   "metadata": {},
   "outputs": [
    {
     "name": "stdout",
     "output_type": "stream",
     "text": [
      "_data/cmip6/ACCESS-CM2/prnet/prnet_Amon_ACCESS-CM2_historical_r1i1p1f1_gn_198001-201412_processed.nc\n",
      "   -> Exists. skipping\n",
      "_data/cmip6/ACCESS-CM2/prnet/prnet_Amon_ACCESS-CM2_ssp585_r1i1p1f1_gn_201501-210012_processed.nc\n",
      "   -> Exists. skipping\n",
      "_data/cmip6/CanESM5/prnet/prnet_Amon_CanESM5_historical_r1i1p2f1_gn_198001-201412_processed.nc\n",
      "   -> Exists. skipping\n",
      "_data/cmip6/CanESM5/prnet/prnet_Amon_CanESM5_ssp585_r1i1p2f1_gn_201501-210012_processed.nc\n",
      "   -> Exists. skipping\n",
      "_data/cmip6/EC-Earth3/prnet/prnet_Amon_EC-Earth3_historical_r4i1p1f1_gr_198001-201412_processed.nc\n",
      "   -> Exists. skipping\n",
      "_data/cmip6/EC-Earth3/prnet/prnet_Amon_EC-Earth3_ssp585_r4i1p1f1_gr_201501-210012_processed.nc\n",
      "   -> Exists. skipping\n",
      "_data/cmip6/HadGEM3-GC31-MM/prnet/prnet_Amon_HadGEM3-GC31-MM_historical_r1i1p1f3_gn_198001-201412_processed.nc\n",
      "   -> Exists. skipping\n",
      "_data/cmip6/HadGEM3-GC31-MM/prnet/prnet_Amon_HadGEM3-GC31-MM_ssp585_r1i1p1f3_gn_201501-210012_processed.nc\n",
      "   -> Exists. skipping\n",
      "_data/cmip6/IPSL-CM6A-LR/prnet/prnet_Amon_IPSL-CM6A-LR_historical_r1i1p1f1_gr_198001-201412_processed.nc\n",
      "   -> Exists. skipping\n",
      "_data/cmip6/IPSL-CM6A-LR/prnet/prnet_Amon_IPSL-CM6A-LR_ssp585_r1i1p1f1_gr_201501-210012_processed.nc\n",
      "   -> Exists. skipping\n",
      "_data/cmip6/MIROC6/prnet/prnet_Amon_MIROC6_historical_r1i1p1f1_gn_198001-201412_processed.nc\n",
      "   -> Exists. skipping\n",
      "_data/cmip6/MIROC6/prnet/prnet_Amon_MIROC6_ssp585_r1i1p1f1_gn_201501-210012_processed.nc\n",
      "   -> Exists. skipping\n",
      "_data/cmip6/MPI-ESM1-2-LR/prnet/prnet_Amon_MPI-ESM1-2-LR_historical_r1i1p1f1_gn_198001-201412_processed.nc\n",
      "   -> Exists. skipping\n",
      "_data/cmip6/MPI-ESM1-2-LR/prnet/prnet_Amon_MPI-ESM1-2-LR_ssp585_r1i1p1f1_gn_201501-210012_processed.nc\n",
      "   -> Exists. skipping\n",
      "_data/cmip6/MRI-ESM2-0/prnet/prnet_Amon_MRI-ESM2-0_historical_r1i1p1f1_gn_198001-201412_processed.nc\n",
      "   -> Exists. skipping\n",
      "_data/cmip6/MRI-ESM2-0/prnet/prnet_Amon_MRI-ESM2-0_ssp585_r1i1p1f1_gn_201501-210012_processed.nc\n",
      "   -> Exists. skipping\n",
      "_data/cmip6/NorESM2-LM/prnet/prnet_Amon_NorESM2-LM_historical_r1i1p1f1_gn_198001-201412_processed.nc\n",
      "   -> Exists. skipping\n",
      "_data/cmip6/NorESM2-LM/prnet/prnet_Amon_NorESM2-LM_ssp585_r1i1p1f1_gn_201501-210012_processed.nc\n",
      "   -> Exists. skipping\n",
      "_data/cmip6/UKESM1-0-LL/prnet/prnet_Amon_UKESM1-0-LL_historical_r2i1p1f2_gn_198001-201412_processed.nc\n",
      "[########################################] | 100% Completed |  7.7s\n",
      "   -> Saved to disk\n",
      "   -> Compressed (-0.03%)\n",
      "_data/cmip6/UKESM1-0-LL/prnet/prnet_Amon_UKESM1-0-LL_ssp585_r2i1p1f2_gn_201501-210012_processed.nc\n",
      "[########################################] | 100% Completed | 18.6s\n",
      "   -> Saved to disk\n",
      "   -> Compressed (-0.03%)\n"
     ]
    }
   ],
   "source": [
    "ensemble = libs.vars.ensemble()\n",
    "create_evspsbl(ensemble, files)"
   ]
  },
  {
   "cell_type": "code",
   "execution_count": null,
   "id": "4f0c922a-940d-48b9-952b-1b852a0c4dfa",
   "metadata": {},
   "outputs": [],
   "source": []
  }
 ],
 "metadata": {
  "kernelspec": {
   "display_name": "climate",
   "language": "python",
   "name": "climate"
  },
  "language_info": {
   "codemirror_mode": {
    "name": "ipython",
    "version": 3
   },
   "file_extension": ".py",
   "mimetype": "text/x-python",
   "name": "python",
   "nbconvert_exporter": "python",
   "pygments_lexer": "ipython3",
   "version": "3.9.10"
  }
 },
 "nbformat": 4,
 "nbformat_minor": 5
}
