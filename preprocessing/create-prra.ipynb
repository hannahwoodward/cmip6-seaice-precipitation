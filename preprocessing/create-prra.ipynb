{
 "cells": [
  {
   "cell_type": "code",
   "execution_count": 1,
   "id": "6a20f42a-c415-4ab0-8d8c-4d8d0e683b09",
   "metadata": {},
   "outputs": [],
   "source": [
    "import os\n",
    "\n",
    "os.chdir(os.path.dirname(os.getcwd()))"
   ]
  },
  {
   "cell_type": "code",
   "execution_count": 2,
   "id": "6deb5cdd-a913-4555-a0b7-1b9e9747c8b2",
   "metadata": {},
   "outputs": [],
   "source": [
    "from dask.diagnostics import ProgressBar\n",
    "from pathlib import Path\n",
    "import libs.utils\n",
    "import libs.vars\n",
    "import numpy as np\n",
    "import xarray\n",
    "\n",
    "xarray.set_options(keep_attrs=True);"
   ]
  },
  {
   "cell_type": "code",
   "execution_count": 3,
   "id": "849322b4-ef8e-4902-b586-dd9f8546185c",
   "metadata": {},
   "outputs": [],
   "source": [
    "# ----- SPECIFIC SETTINGS -----\n",
    "component = 'Amon'\n",
    "\n",
    "files = [\n",
    "    f'{{variable_id}}_{component}_{{source_id}}_historical_{{variant_label}}_{{grid_label}}_198001-201412_processed.nc',\n",
    "    f'{{variable_id}}_{component}_{{source_id}}_ssp585_{{variant_label}}_{{grid_label}}_201501-210012_processed.nc'\n",
    "]"
   ]
  },
  {
   "cell_type": "code",
   "execution_count": 4,
   "id": "dcacc78f-9760-42fc-8d3c-507782410479",
   "metadata": {},
   "outputs": [],
   "source": [
    "def create_prra(ensemble, files):\n",
    "    for i, item in enumerate(ensemble):\n",
    "        source_id = item['source_id']\n",
    "        variant_label = item['variant_label']\n",
    "        grid_label = 'gn'\n",
    "        if source_id == 'EC-Earth3':\n",
    "            grid_label = 'gr'\n",
    "        \n",
    "        format_vars = {\n",
    "            'source_id': source_id,\n",
    "            'variant_label': variant_label,\n",
    "            'grid_label': grid_label\n",
    "        }\n",
    "        \n",
    "        for filename in files:\n",
    "            base_path = f'_data/cmip6/{source_id}/{{variable_id}}/'\n",
    "            filepath_pr = (base_path + filename).format(variable_id='pr', **format_vars)\n",
    "            filepath_prsn = (base_path + filename).format(variable_id='prsn', **format_vars)\n",
    "            filepath_prra = (base_path + filename).format(variable_id='prra', **format_vars)\n",
    "            \n",
    "            print(filepath_pr)\n",
    "            print(filepath_prsn)\n",
    "\n",
    "            data_pr = xarray.open_mfdataset(paths=filepath_pr, combine='by_coords', use_cftime=True)\n",
    "            data_prsn = xarray.open_mfdataset(paths=filepath_prsn, combine='by_coords', use_cftime=True)\n",
    "            \n",
    "            # Calculate rainfall (pr - prsn)\n",
    "            data_pr['pr'] -= data_prsn['prsn']\n",
    "            data_prra = data_pr.rename({ 'pr': 'prra' })\n",
    "            \n",
    "            Path(filepath_prra).parent.mkdir(parents=True, exist_ok=True)\n",
    "            print(filepath_prra)\n",
    "            \n",
    "            if Path(filepath_prra).exists():\n",
    "                print('   -> Exists. skipping')\n",
    "                continue\n",
    "\n",
    "            write = data_prra.to_netcdf(\n",
    "                filepath_prra,\n",
    "                compute=False,\n",
    "                engine='netcdf4',\n",
    "                unlimited_dims=['time']\n",
    "            )\n",
    "            with ProgressBar():\n",
    "                write.compute()\n",
    "\n",
    "            data_pr.close()\n",
    "            data_prsn.close()\n",
    "            print('   -> Saved to disk')\n",
    "\n",
    "            # Finally, compress as to_netcdf() seems to produce large file sizes\n",
    "            libs.utils.compress_nc_file(filepath_prra, filepath_prra)\n",
    "            print('   -> Compressed')"
   ]
  },
  {
   "cell_type": "code",
   "execution_count": 5,
   "id": "421b6999-548e-40a2-a9a7-05e9be551007",
   "metadata": {},
   "outputs": [
    {
     "name": "stdout",
     "output_type": "stream",
     "text": [
      "_data/cmip6/UKESM1-0-LL/pr/pr_Amon_UKESM1-0-LL_historical_r2i1p1f2_gn_198001-201412_processed.nc\n",
      "_data/cmip6/UKESM1-0-LL/prsn/prsn_Amon_UKESM1-0-LL_historical_r2i1p1f2_gn_198001-201412_processed.nc\n",
      "_data/cmip6/UKESM1-0-LL/prra/prra_Amon_UKESM1-0-LL_historical_r2i1p1f2_gn_198001-201412_processed.nc\n",
      "   -> Exists. skipping\n",
      "_data/cmip6/UKESM1-0-LL/pr/pr_Amon_UKESM1-0-LL_ssp585_r2i1p1f2_gn_201501-210012_processed.nc\n",
      "_data/cmip6/UKESM1-0-LL/prsn/prsn_Amon_UKESM1-0-LL_ssp585_r2i1p1f2_gn_201501-210012_processed.nc\n",
      "_data/cmip6/UKESM1-0-LL/prra/prra_Amon_UKESM1-0-LL_ssp585_r2i1p1f2_gn_201501-210012_processed.nc\n",
      "   -> Exists. skipping\n",
      "_data/cmip6/NorESM2-LM/pr/pr_Amon_NorESM2-LM_historical_r1i1p1f1_gn_198001-201412_processed.nc\n",
      "_data/cmip6/NorESM2-LM/prsn/prsn_Amon_NorESM2-LM_historical_r1i1p1f1_gn_198001-201412_processed.nc\n",
      "_data/cmip6/NorESM2-LM/prra/prra_Amon_NorESM2-LM_historical_r1i1p1f1_gn_198001-201412_processed.nc\n",
      "   -> Exists. skipping\n",
      "_data/cmip6/NorESM2-LM/pr/pr_Amon_NorESM2-LM_ssp585_r1i1p1f1_gn_201501-210012_processed.nc\n",
      "_data/cmip6/NorESM2-LM/prsn/prsn_Amon_NorESM2-LM_ssp585_r1i1p1f1_gn_201501-210012_processed.nc\n",
      "_data/cmip6/NorESM2-LM/prra/prra_Amon_NorESM2-LM_ssp585_r1i1p1f1_gn_201501-210012_processed.nc\n",
      "   -> Exists. skipping\n",
      "_data/cmip6/CanESM5/pr/pr_Amon_CanESM5_historical_r1i1p2f1_gn_198001-201412_processed.nc\n",
      "_data/cmip6/CanESM5/prsn/prsn_Amon_CanESM5_historical_r1i1p2f1_gn_198001-201412_processed.nc\n",
      "_data/cmip6/CanESM5/prra/prra_Amon_CanESM5_historical_r1i1p2f1_gn_198001-201412_processed.nc\n",
      "   -> Exists. skipping\n",
      "_data/cmip6/CanESM5/pr/pr_Amon_CanESM5_ssp585_r1i1p2f1_gn_201501-210012_processed.nc\n",
      "_data/cmip6/CanESM5/prsn/prsn_Amon_CanESM5_ssp585_r1i1p2f1_gn_201501-210012_processed.nc\n",
      "_data/cmip6/CanESM5/prra/prra_Amon_CanESM5_ssp585_r1i1p2f1_gn_201501-210012_processed.nc\n",
      "   -> Exists. skipping\n",
      "_data/cmip6/ACCESS-CM2/pr/pr_Amon_ACCESS-CM2_historical_r1i1p1f1_gn_198001-201412_processed.nc\n",
      "_data/cmip6/ACCESS-CM2/prsn/prsn_Amon_ACCESS-CM2_historical_r1i1p1f1_gn_198001-201412_processed.nc\n",
      "_data/cmip6/ACCESS-CM2/prra/prra_Amon_ACCESS-CM2_historical_r1i1p1f1_gn_198001-201412_processed.nc\n",
      "   -> Exists. skipping\n",
      "_data/cmip6/ACCESS-CM2/pr/pr_Amon_ACCESS-CM2_ssp585_r1i1p1f1_gn_201501-210012_processed.nc\n",
      "_data/cmip6/ACCESS-CM2/prsn/prsn_Amon_ACCESS-CM2_ssp585_r1i1p1f1_gn_201501-210012_processed.nc\n",
      "_data/cmip6/ACCESS-CM2/prra/prra_Amon_ACCESS-CM2_ssp585_r1i1p1f1_gn_201501-210012_processed.nc\n",
      "   -> Exists. skipping\n",
      "_data/cmip6/EC-Earth3/pr/pr_Amon_EC-Earth3_historical_r4i1p1f1_gr_198001-201412_processed.nc\n",
      "_data/cmip6/EC-Earth3/prsn/prsn_Amon_EC-Earth3_historical_r4i1p1f1_gr_198001-201412_processed.nc\n",
      "_data/cmip6/EC-Earth3/prra/prra_Amon_EC-Earth3_historical_r4i1p1f1_gr_198001-201412_processed.nc\n",
      "   -> Exists. skipping\n",
      "_data/cmip6/EC-Earth3/pr/pr_Amon_EC-Earth3_ssp585_r4i1p1f1_gr_201501-210012_processed.nc\n",
      "_data/cmip6/EC-Earth3/prsn/prsn_Amon_EC-Earth3_ssp585_r4i1p1f1_gr_201501-210012_processed.nc\n",
      "_data/cmip6/EC-Earth3/prra/prra_Amon_EC-Earth3_ssp585_r4i1p1f1_gr_201501-210012_processed.nc\n",
      "   -> Exists. skipping\n"
     ]
    }
   ],
   "source": [
    "ensemble = libs.vars.ensemble()\n",
    "create_prra(ensemble, files)"
   ]
  },
  {
   "cell_type": "code",
   "execution_count": null,
   "id": "4f0c922a-940d-48b9-952b-1b852a0c4dfa",
   "metadata": {},
   "outputs": [],
   "source": []
  }
 ],
 "metadata": {
  "kernelspec": {
   "display_name": "climate",
   "language": "python",
   "name": "climate"
  },
  "language_info": {
   "codemirror_mode": {
    "name": "ipython",
    "version": 3
   },
   "file_extension": ".py",
   "mimetype": "text/x-python",
   "name": "python",
   "nbconvert_exporter": "python",
   "pygments_lexer": "ipython3",
   "version": "3.9.10"
  }
 },
 "nbformat": 4,
 "nbformat_minor": 5
}
