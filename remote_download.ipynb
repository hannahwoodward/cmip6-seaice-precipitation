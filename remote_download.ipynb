{
 "cells": [
  {
   "cell_type": "code",
   "execution_count": 1,
   "id": "5bdeee11",
   "metadata": {},
   "outputs": [],
   "source": [
    "import libs.utils\n",
    "import libs.vars\n",
    "import xarray"
   ]
  },
  {
   "cell_type": "code",
   "execution_count": 2,
   "id": "e5676f9f-9f2e-4490-bd8e-ccbc3b75e52a",
   "metadata": {},
   "outputs": [],
   "source": [
    "ensemble = libs.vars.ensemble()\n",
    "\n",
    "areacello_kwargs = {\n",
    "    'experiment_id': 'piControl',\n",
    "    'variable_id': 'areacello',\n",
    "    'variant_label': None\n",
    "}\n",
    "\n",
    "si_kwargs = {\n",
    "    'experiment_id': 'ssp585',\n",
    "    'frequency': 'mon',\n",
    "    'variable_id': 'siconc'\n",
    "}"
   ]
  },
  {
   "cell_type": "code",
   "execution_count": 3,
   "id": "420cbfd4",
   "metadata": {},
   "outputs": [
    {
     "name": "stdout",
     "output_type": "stream",
     "text": [
      "Requesting:\n",
      "-> https://esgf-index1.ceda.ac.uk/esg-search/search/?experiment_id=ssp585&format=application%2Fsolr%2Bjson&grid_label=gn&latest=true&limit=20&mip_era=CMIP6&offset=0&replica=false&source_id=UKESM1-0-LL&type=Dataset&variable_id=siconc&frequency=mon&variant_label=r2i1p1f2\n",
      "Results:\n",
      "-> CMIP6.ScenarioMIP.MOHC.UKESM1-0-LL.ssp585.r2i1p1f2.SImon.siconc.gn.v20200420|esgf-data3.ceda.ac.uk\n",
      "   -> Already exists, skipping: _data/cmip6/UKESM1-0-LL/siconc_SImon_UKESM1-0-LL_ssp585_r2i1p1f2_gn_201501-204912.nc\n",
      "   -> Already exists, skipping: _data/cmip6/UKESM1-0-LL/siconc_SImon_UKESM1-0-LL_ssp585_r2i1p1f2_gn_205001-210012.nc\n",
      "-> Processing:\n",
      "   -> Merged\n",
      "   -> Set time encoding\n",
      "   -> Processed file already exists, skipping write\n",
      "--------------------\n",
      "Requesting:\n",
      "-> https://esgf-index1.ceda.ac.uk/esg-search/search/?experiment_id=ssp585&format=application%2Fsolr%2Bjson&grid_label=gn&latest=true&limit=20&mip_era=CMIP6&offset=0&replica=false&source_id=NorESM2-LM&type=Dataset&variable_id=siconc&frequency=mon&variant_label=r1i1p1f1\n",
      "Results:\n",
      "-> CMIP6.ScenarioMIP.NCC.NorESM2-LM.ssp585.r1i1p1f1.SImon.siconc.gn.v20191108|noresg.nird.sigma2.no\n",
      "   -> Already exists, skipping: _data/cmip6/NorESM2-LM/siconc_SImon_NorESM2-LM_ssp585_r1i1p1f1_gn_201501-202012.nc\n",
      "   -> Already exists, skipping: _data/cmip6/NorESM2-LM/siconc_SImon_NorESM2-LM_ssp585_r1i1p1f1_gn_202101-203012.nc\n",
      "   -> Already exists, skipping: _data/cmip6/NorESM2-LM/siconc_SImon_NorESM2-LM_ssp585_r1i1p1f1_gn_203101-204012.nc\n",
      "   -> Already exists, skipping: _data/cmip6/NorESM2-LM/siconc_SImon_NorESM2-LM_ssp585_r1i1p1f1_gn_204101-205012.nc\n",
      "   -> Already exists, skipping: _data/cmip6/NorESM2-LM/siconc_SImon_NorESM2-LM_ssp585_r1i1p1f1_gn_205101-206012.nc\n",
      "   -> Already exists, skipping: _data/cmip6/NorESM2-LM/siconc_SImon_NorESM2-LM_ssp585_r1i1p1f1_gn_206101-207012.nc\n",
      "   -> Already exists, skipping: _data/cmip6/NorESM2-LM/siconc_SImon_NorESM2-LM_ssp585_r1i1p1f1_gn_207101-208012.nc\n",
      "   -> Already exists, skipping: _data/cmip6/NorESM2-LM/siconc_SImon_NorESM2-LM_ssp585_r1i1p1f1_gn_208101-209012.nc\n",
      "   -> Already exists, skipping: _data/cmip6/NorESM2-LM/siconc_SImon_NorESM2-LM_ssp585_r1i1p1f1_gn_209101-210012.nc\n",
      "-> Processing:\n",
      "   -> Merged\n",
      "   -> Set time encoding\n",
      "   -> Converted calendar to 360_day\n",
      "   -> Processed file already exists, skipping write\n",
      "--------------------\n",
      "Requesting:\n",
      "-> https://esgf-index1.ceda.ac.uk/esg-search/search/?experiment_id=ssp585&format=application%2Fsolr%2Bjson&grid_label=gn&latest=true&limit=20&mip_era=CMIP6&offset=0&replica=false&source_id=CanESM5&type=Dataset&variable_id=siconc&frequency=mon&variant_label=r1i1p2f1\n",
      "Results:\n",
      "-> CMIP6.ScenarioMIP.CCCma.CanESM5.ssp585.r1i1p2f1.SImon.siconc.gn.v20190429|crd-esgf-drc.ec.gc.ca\n",
      "   -> Already exists, skipping: _data/cmip6/CanESM5/siconc_SImon_CanESM5_ssp585_r1i1p2f1_gn_201501-210012.nc\n",
      "-> Processing:\n",
      "   -> Merged\n",
      "   -> Converted calendar to 360_day\n",
      "   -> Processed file already exists, skipping write\n",
      "--------------------\n",
      "Requesting:\n",
      "-> https://esgf-index1.ceda.ac.uk/esg-search/search/?experiment_id=ssp585&format=application%2Fsolr%2Bjson&grid_label=gn&latest=true&limit=20&mip_era=CMIP6&offset=0&replica=false&source_id=CMCC-ESM2&type=Dataset&variable_id=siconc&frequency=mon&variant_label=r1i1p1f1\n",
      "Results:\n",
      "-> CMIP6.ScenarioMIP.CMCC.CMCC-ESM2.ssp585.r1i1p1f1.SImon.siconc.gn.v20210126|esgf-node2.cmcc.it\n",
      "   -> Already exists, skipping: _data/cmip6/CMCC-ESM2/siconc_SImon_CMCC-ESM2_ssp585_r1i1p1f1_gn_201501-210012.nc\n",
      "-> Processing:\n",
      "   -> Merged\n",
      "   -> Converted calendar to 360_day\n",
      "   -> Processed file already exists, skipping write\n",
      "--------------------\n",
      "Requesting:\n",
      "-> https://esgf-index1.ceda.ac.uk/esg-search/search/?experiment_id=ssp585&format=application%2Fsolr%2Bjson&grid_label=gn&latest=true&limit=20&mip_era=CMIP6&offset=0&replica=false&source_id=ACCESS-CM2&type=Dataset&variable_id=siconc&frequency=mon&variant_label=r1i1p1f1\n",
      "Results:\n",
      "-> CMIP6.ScenarioMIP.CSIRO-ARCCSS.ACCESS-CM2.ssp585.r1i1p1f1.SImon.siconc.gn.v20210317|esgf.nci.org.au\n",
      "   -> Already exists, skipping: _data/cmip6/ACCESS-CM2/siconc_SImon_ACCESS-CM2_ssp585_r1i1p1f1_gn_201501-210012.nc\n",
      "   -> Already exists, skipping: _data/cmip6/ACCESS-CM2/siconc_SImon_ACCESS-CM2_ssp585_r1i1p1f1_gn_210101-230012.nc\n",
      "-> Processing:\n",
      "   -> Merged\n",
      "   -> Set time encoding\n",
      "   -> Converted calendar to 360_day\n",
      "   -> Processed file already exists, skipping write\n",
      "--------------------\n"
     ]
    }
   ],
   "source": [
    "for i, item in enumerate(ensemble):\n",
    "    kwargs = {}\n",
    "    kwargs['experiment_id'] = item['experiment_id']\n",
    "    kwargs['source_id'] = item['source_id']\n",
    "    kwargs['variant_label'] = item['variant_label']\n",
    "    \n",
    "    for k in si_kwargs:\n",
    "        kwargs[k] = si_kwargs[k]\n",
    "\n",
    "    kwargs['process_files'] = True\n",
    "    kwargs['save_to_local'] = True\n",
    "\n",
    "    ensemble[i]['file'] = libs.utils.download_variable(**kwargs)\n",
    "    print('-' * 20)"
   ]
  },
  {
   "cell_type": "code",
   "execution_count": null,
   "id": "5958326b-b89c-43f3-b7a0-c1d7c4f7e41a",
   "metadata": {},
   "outputs": [
    {
     "name": "stdout",
     "output_type": "stream",
     "text": [
      "Saving to:\n",
      "-> _data/cmip6/CanESM5/siconc_SImon_CanESM5_ssp585_r1i1p2f1_gn_201501-210012_processed_regrid.nc\n",
      "[########################################] | 100% Completed |  8.5s\n",
      "Saving to:\n",
      "-> _data/cmip6/CMCC-ESM2/siconc_SImon_CMCC-ESM2_ssp585_r1i1p1f1_gn_201501-210012_processed_regrid.nc\n",
      "[########################################] | 100% Completed |  7.2s\n",
      "Saving to:\n",
      "-> _data/cmip6/ACCESS-CM2/siconc_SImon_ACCESS-CM2_ssp585_r1i1p1f1_gn_201501-210012_processed_regrid.nc\n",
      "[#############                           ] | 33% Completed | 35.4s"
     ]
    }
   ],
   "source": [
    "# TODO: fix failing ACCESS-CM2 and NorESM regridding\n",
    "filename = f'siconc_SImon_UKESM1-0-LL_ssp585_r2i1p1f2_gn_201501-204912.nc'\n",
    "local_file = f'_data/cmip6/UKESM1-0-LL/{filename}'\n",
    "ukesm_siconc = xarray.open_mfdataset(\n",
    "    paths=local_file, \n",
    "    combine='by_coords',\n",
    "    use_cftime=True\n",
    ")\n",
    "regrid_kwargs = {\n",
    "   'grid': ukesm_siconc, \n",
    "   'method': 'nearest_s2d',\n",
    "}\n",
    "\n",
    "for item in ensemble[2:]:\n",
    "    item_data = xarray.open_mfdataset(\n",
    "        paths=item['file'], \n",
    "        combine='by_coords',\n",
    "        use_cftime=True\n",
    "    )\n",
    "    save_file = str(item['file']).replace('.nc', '_regrid.nc')\n",
    "    print(f'Saving to:')\n",
    "    print(f'-> {save_file}')\n",
    "    data_regridded = libs.utils.regrid(item_data, save_file=save_file, **regrid_kwargs)\n",
    "    item_data.close()\n",
    "    data_regridded.close()\n"
   ]
  },
  {
   "cell_type": "code",
   "execution_count": null,
   "id": "9360d5c6-720d-4a5d-b77e-3766375919b4",
   "metadata": {},
   "outputs": [],
   "source": []
  }
 ],
 "metadata": {
  "kernelspec": {
   "display_name": "Python [conda env:climate] *",
   "language": "python",
   "name": "conda-env-climate-py"
  },
  "language_info": {
   "codemirror_mode": {
    "name": "ipython",
    "version": 3
   },
   "file_extension": ".py",
   "mimetype": "text/x-python",
   "name": "python",
   "nbconvert_exporter": "python",
   "pygments_lexer": "ipython3",
   "version": "3.9.10"
  }
 },
 "nbformat": 4,
 "nbformat_minor": 5
}
