{
 "cells": [
  {
   "cell_type": "code",
   "execution_count": 1,
   "id": "5bdeee11",
   "metadata": {},
   "outputs": [],
   "source": [
    "import libs.utils\n",
    "import libs.vars"
   ]
  },
  {
   "cell_type": "code",
   "execution_count": 2,
   "id": "420cbfd4",
   "metadata": {},
   "outputs": [
    {
     "name": "stdout",
     "output_type": "stream",
     "text": [
      "Requesting:\n",
      "-> https://esgf-index1.ceda.ac.uk/esg-search/search/?experiment_id=piControl&format=application%2Fsolr%2Bjson&grid_label=gn&latest=true&limit=20&mip_era=CMIP6&offset=0&replica=false&source_id=UKESM1-0-LL&type=Dataset&variable_id=areacello\n",
      "Results:\n",
      "-> CMIP6.CMIP.MOHC.UKESM1-0-LL.piControl.r1i1p1f2.Ofx.areacello.gn.v20190705|esgf-data3.ceda.ac.uk\n",
      "   -> Already exists, skipping: _data/cmip6/UKESM1-0-LL/areacello_Ofx_UKESM1-0-LL_piControl_r1i1p1f2_gn.nc\n",
      "--------------------\n",
      "Requesting:\n",
      "-> https://esgf-index1.ceda.ac.uk/esg-search/search/?experiment_id=piControl&format=application%2Fsolr%2Bjson&grid_label=gn&latest=true&limit=20&mip_era=CMIP6&offset=0&replica=false&source_id=NorESM2-LM&type=Dataset&variable_id=areacello\n",
      "Results:\n",
      "-> CMIP6.CMIP.NCC.NorESM2-LM.piControl.r1i1p1f1.Ofx.areacello.gn.v20210118|noresg.nird.sigma2.no\n",
      "   -> Downloading:\n",
      "   -> http://noresg.nird.sigma2.no/thredds/fileServer/esg_dataroot/cmor/CMIP6/CMIP/NCC/NorESM2-LM/piControl/r1i1p1f1/Ofx/areacello/gn/v20210118/areacello_Ofx_NorESM2-LM_piControl_r1i1p1f1_gn.nc\n",
      "   -> _data/cmip6/NorESM2-LM/areacello_Ofx_NorESM2-LM_piControl_r1i1p1f1_gn.nc\n",
      "--------------------\n",
      "Requesting:\n",
      "-> https://esgf-index1.ceda.ac.uk/esg-search/search/?experiment_id=piControl&format=application%2Fsolr%2Bjson&grid_label=gn&latest=true&limit=20&mip_era=CMIP6&offset=0&replica=false&source_id=CESM2-WACCM&type=Dataset&variable_id=areacello\n",
      "Results:\n",
      "-> CMIP6.CMIP.NCAR.CESM2-WACCM.piControl.r1i1p1f1.Ofx.areacello.gn.v20190320|esgf-data.ucar.edu\n",
      "   -> Already exists, skipping: _data/cmip6/CESM2-WACCM/areacello_Ofx_CESM2-WACCM_piControl_r1i1p1f1_gn.nc\n",
      "--------------------\n",
      "Requesting:\n",
      "-> https://esgf-index1.ceda.ac.uk/esg-search/search/?experiment_id=piControl&format=application%2Fsolr%2Bjson&grid_label=gn&latest=true&limit=20&mip_era=CMIP6&offset=0&replica=false&source_id=CESM2&type=Dataset&variable_id=areacello\n",
      "Results:\n",
      "-> CMIP6.CMIP.NCAR.CESM2.piControl.r1i1p1f1.Ofx.areacello.gn.v20190320|esgf-data.ucar.edu\n",
      "   -> Already exists, skipping: _data/cmip6/CESM2/areacello_Ofx_CESM2_piControl_r1i1p1f1_gn.nc\n",
      "--------------------\n",
      "Requesting:\n",
      "-> https://esgf-index1.ceda.ac.uk/esg-search/search/?experiment_id=piControl&format=application%2Fsolr%2Bjson&grid_label=gn&latest=true&limit=20&mip_era=CMIP6&offset=0&replica=false&source_id=CanESM5&type=Dataset&variable_id=areacello\n",
      "Results:\n",
      "-> CMIP6.CMIP.CCCma.CanESM5.piControl.r1i1p1f1.Ofx.areacello.gn.v20190429|crd-esgf-drc.ec.gc.ca\n",
      "   -> Already exists, skipping: _data/cmip6/CanESM5/areacello_Ofx_CanESM5_piControl_r1i1p1f1_gn.nc\n",
      "-> CMIP6.CMIP.CCCma.CanESM5.piControl.r1i1p2f1.Ofx.areacello.gn.v20190429|crd-esgf-drc.ec.gc.ca\n",
      "   -> Already exists, skipping: _data/cmip6/CanESM5/areacello_Ofx_CanESM5_piControl_r1i1p2f1_gn.nc\n",
      "--------------------\n",
      "Requesting:\n",
      "-> https://esgf-index1.ceda.ac.uk/esg-search/search/?experiment_id=piControl&format=application%2Fsolr%2Bjson&grid_label=gn&latest=true&limit=20&mip_era=CMIP6&offset=0&replica=false&source_id=CMCC-ESM2&type=Dataset&variable_id=areacello\n",
      "Results:\n",
      "-> CMIP6.CMIP.CMCC.CMCC-ESM2.piControl.r1i1p1f1.Ofx.areacello.gn.v20210304|esgf-node2.cmcc.it\n",
      "   -> Already exists, skipping: _data/cmip6/CMCC-ESM2/areacello_Ofx_CMCC-ESM2_piControl_r1i1p1f1_gn.nc\n",
      "--------------------\n",
      "Requesting:\n",
      "-> https://esgf-index1.ceda.ac.uk/esg-search/search/?experiment_id=piControl&format=application%2Fsolr%2Bjson&grid_label=gn&latest=true&limit=20&mip_era=CMIP6&offset=0&replica=false&source_id=ACCESS-CM2&type=Dataset&variable_id=areacello\n",
      "Results:\n",
      "-> CMIP6.CMIP.CSIRO-ARCCSS.ACCESS-CM2.piControl.r1i1p1f1.Ofx.areacello.gn.v20191112|esgf.nci.org.au\n",
      "   -> Already exists, skipping: _data/cmip6/ACCESS-CM2/areacello_Ofx_ACCESS-CM2_piControl_r1i1p1f1_gn.nc\n",
      "--------------------\n",
      "Requesting:\n",
      "-> https://esgf-index1.ceda.ac.uk/esg-search/search/?experiment_id=piControl&format=application%2Fsolr%2Bjson&grid_label=gn&latest=true&limit=20&mip_era=CMIP6&offset=0&replica=false&source_id=GFDL-ESM4&type=Dataset&variable_id=areacello\n",
      "Results:\n",
      "-> CMIP6.CMIP.NOAA-GFDL.GFDL-ESM4.piControl.r1i1p1f1.Ofx.areacello.gn.v20180701|esgdata.gfdl.noaa.gov\n",
      "An error occurred downloading remote files\n",
      "Remote end closed connection without response\n",
      "--------------------\n"
     ]
    }
   ],
   "source": [
    "ensemble = libs.vars.ensemble()\n",
    "\n",
    "areacello_kwargs = {\n",
    "    'experiment_id': 'piControl',\n",
    "    'variable_id': 'areacello',\n",
    "    'variant_label': None\n",
    "}\n",
    "\n",
    "si_kwargs = {\n",
    "    'experiment_id': 'ssp585',\n",
    "    'variable_id': 'siconc'\n",
    "}\n",
    "\n",
    "for item in ensemble:\n",
    "    kwargs = item\n",
    "    \n",
    "    for k in areacello_kwargs:\n",
    "        kwargs[k] = areacello_kwargs[k]\n",
    "\n",
    "    kwargs['process_files'] = False\n",
    "    kwargs['save_to_local'] = True\n",
    "    #kwargs['frequency'] = 'mon'\n",
    "\n",
    "    libs.utils.download_variable(**kwargs)\n",
    "    print('-' * 20)"
   ]
  },
  {
   "cell_type": "code",
   "execution_count": null,
   "id": "7f439cb1",
   "metadata": {},
   "outputs": [],
   "source": []
  }
 ],
 "metadata": {
  "kernelspec": {
   "display_name": "Python [conda env:climate] *",
   "language": "python",
   "name": "conda-env-climate-py"
  },
  "language_info": {
   "codemirror_mode": {
    "name": "ipython",
    "version": 3
   },
   "file_extension": ".py",
   "mimetype": "text/x-python",
   "name": "python",
   "nbconvert_exporter": "python",
   "pygments_lexer": "ipython3",
   "version": "3.9.10"
  }
 },
 "nbformat": 4,
 "nbformat_minor": 5
}
