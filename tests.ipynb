{
 "cells": [
  {
   "cell_type": "markdown",
   "id": "2abe24a8",
   "metadata": {},
   "source": [
    "# Tests"
   ]
  },
  {
   "cell_type": "markdown",
   "id": "134378d3",
   "metadata": {},
   "source": [
    "## Imports & defaults"
   ]
  },
  {
   "cell_type": "code",
   "execution_count": 1,
   "id": "90cd883b",
   "metadata": {},
   "outputs": [],
   "source": [
    "import cartopy.crs as ccrs\n",
    "import libs.helpers as helpers\n",
    "import libs.plot\n",
    "import matplotlib\n",
    "import matplotlib.pyplot as plt\n",
    "import numpy as np\n",
    "import xarray\n",
    "\n",
    "import warnings\n",
    "warnings.filterwarnings('ignore')\n",
    "\n",
    "\n",
    "def regional(data):\n",
    "    regions = helpers.nsidc_regions()\n",
    "\n",
    "    fig, axs = plt.subplots(\n",
    "        3, \n",
    "        3, \n",
    "        figsize=(15, 15),\n",
    "        subplot_kw={ \n",
    "            'projection': ccrs.Stereographic(central_latitude=90.0)\n",
    "        }\n",
    "    )\n",
    "    transform = ccrs.PlateCarree()\n",
    "    axs = axs.flatten()\n",
    "    \n",
    "    for i, region in enumerate(regions[1:]):\n",
    "        data_masked = data.copy()\\\n",
    "            .sel(time=slice('2080-01-01', '2101-01-01'))\\\n",
    "            .where(np.isin(nsidc_mask.values, region['values']))\\\n",
    "            .mean(dim=('time'), skipna=True)\n",
    "        \n",
    "        ax = axs[i]\n",
    "        ax.coastlines(resolution='110m', linewidth=0.5)\n",
    "        ax.set_extent([-180, 180, 45, 90], transform)\n",
    "        gl = ax.gridlines()\n",
    "        gl.ylocator = matplotlib.ticker.LinearLocator(4)\n",
    "\n",
    "        # Crop to circle\n",
    "        theta = np.linspace(0, 2 * np.pi, 100)\n",
    "        center, radius = [0.5, 0.5], 0.5\n",
    "        verts = np.vstack([np.sin(theta), np.cos(theta)]).T\n",
    "        circle = matplotlib.path.Path(verts * radius + center)\n",
    "        ax.set_boundary(circle, transform=ax.transAxes)\n",
    "        data_masked.plot.pcolormesh(\n",
    "            add_colorbar=False,\n",
    "            ax=ax,\n",
    "            levels=21,\n",
    "            shading='flat',\n",
    "            transform=transform\n",
    "        )\n",
    "        ax.set_title(region['label'])"
   ]
  },
  {
   "cell_type": "markdown",
   "id": "9b06e1ac",
   "metadata": {},
   "source": [
    "## Regional masks"
   ]
  },
  {
   "cell_type": "code",
   "execution_count": null,
   "id": "82c87f8f",
   "metadata": {},
   "outputs": [],
   "source": [
    "path_nsidc_mask = '_data/_cache/NSIDC_Regions_Masks_LatLon_nearest_s2d.nc'\n",
    "nsidc_mask = xarray.open_mfdataset(paths=path_nsidc_mask, combine='by_coords').mask\n",
    "nsidc_mask = nsidc_mask.roll(x=96, roll_coords=True)\n",
    "\n",
    "pr = helpers.get_data('ssp585', 'Amon', 'pr', 'r2i1p1f2').pr\n",
    "pr = pr.where(pr.lat > 60).where(nsidc_mask.values > 0)\n",
    "\n",
    "regional(pr)"
   ]
  },
  {
   "cell_type": "markdown",
   "id": "f6b07c17",
   "metadata": {},
   "source": [
    "## Weighted calculations"
   ]
  },
  {
   "cell_type": "code",
   "execution_count": null,
   "id": "a2eab52d",
   "metadata": {},
   "outputs": [],
   "source": [
    "path_areacella = '_data/cmip6/UKESM1/areacella_fx_UKESM1-0-LL_piControl_r1i1p1f2_gn.nc'\n",
    "areacella = xarray.open_mfdataset(paths=path_areacella, combine='by_coords').areacella\n",
    "\n",
    "pr_areacella_mean = pr[0, :, :].weighted(areacella).mean(dim=('lat', 'lon'))\n",
    "pr_custom_mean = pr[0, :, :].weighted(np.cos(np.deg2rad(pr[0, :, :].lat))).mean(dim=('lat', 'lon'))\n",
    "pr_areacella_multi_mean = (pr[0, :, :] * areacella).mean(dim=('lat', 'lon'))\n",
    "\n",
    "print(pr_areacella_mean.values, pr_custom_mean.values, pr_areacella_multi_mean.values)"
   ]
  },
  {
   "cell_type": "code",
   "execution_count": null,
   "id": "59ca2120",
   "metadata": {},
   "outputs": [],
   "source": [
    "pr_areacella_sum = pr[0, :, :].weighted(areacella).sum(dim=('lat', 'lon'))\n",
    "pr_custom_sum = pr[0, :, :].weighted(np.cos(np.deg2rad(pr[0, :, :].lat))).sum(dim=('lat', 'lon'))\n",
    "pr_areacella_multi_sum = (pr[0, :, :] * areacella).sum(dim=('lat', 'lon'))\n",
    "\n",
    "print(pr_areacella_sum.values, pr_custom_sum.values, pr_areacella_multi_sum.values)"
   ]
  },
  {
   "cell_type": "code",
   "execution_count": null,
   "id": "fdd8589f",
   "metadata": {},
   "outputs": [],
   "source": []
  }
 ],
 "metadata": {
  "kernelspec": {
   "display_name": "Python [conda env:climate] *",
   "language": "python",
   "name": "conda-env-climate-py"
  },
  "language_info": {
   "codemirror_mode": {
    "name": "ipython",
    "version": 3
   },
   "file_extension": ".py",
   "mimetype": "text/x-python",
   "name": "python",
   "nbconvert_exporter": "python",
   "pygments_lexer": "ipython3",
   "version": "3.9.10"
  }
 },
 "nbformat": 4,
 "nbformat_minor": 5
}
